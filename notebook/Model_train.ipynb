{
 "cells": [
  {
   "cell_type": "code",
   "execution_count": 16,
   "id": "3434a74c",
   "metadata": {},
   "outputs": [],
   "source": [
    "from sklearn.model_selection import train_test_split\n",
    "from sklearn.feature_extraction.text import TfidfVectorizer\n",
    "from sklearn.linear_model import LogisticRegression\n",
    "from sklearn.metrics import classification_report,mean_squared_error\n",
    "from sklearn.svm import SVC\n",
    "import matplotlib.pyplot as plt\n",
    "%matplotlib inline\n",
    "import pandas as pd"
   ]
  },
  {
   "cell_type": "code",
   "execution_count": 2,
   "id": "7a7f4a6d",
   "metadata": {},
   "outputs": [
    {
     "data": {
      "text/html": [
       "<div>\n",
       "<style scoped>\n",
       "    .dataframe tbody tr th:only-of-type {\n",
       "        vertical-align: middle;\n",
       "    }\n",
       "\n",
       "    .dataframe tbody tr th {\n",
       "        vertical-align: top;\n",
       "    }\n",
       "\n",
       "    .dataframe thead th {\n",
       "        text-align: right;\n",
       "    }\n",
       "</style>\n",
       "<table border=\"1\" class=\"dataframe\">\n",
       "  <thead>\n",
       "    <tr style=\"text-align: right;\">\n",
       "      <th></th>\n",
       "      <th>ID</th>\n",
       "      <th>Entity</th>\n",
       "      <th>Sentiment</th>\n",
       "      <th>Content</th>\n",
       "      <th>cleaned</th>\n",
       "      <th>Sentiment_label</th>\n",
       "    </tr>\n",
       "  </thead>\n",
       "  <tbody>\n",
       "    <tr>\n",
       "      <th>0</th>\n",
       "      <td>2401</td>\n",
       "      <td>Borderlands</td>\n",
       "      <td>Positive</td>\n",
       "      <td>im getting on borderlands and i will murder yo...</td>\n",
       "      <td>im getting borderlands murder</td>\n",
       "      <td>3</td>\n",
       "    </tr>\n",
       "    <tr>\n",
       "      <th>1</th>\n",
       "      <td>2401</td>\n",
       "      <td>Borderlands</td>\n",
       "      <td>Positive</td>\n",
       "      <td>I am coming to the borders and I will kill you...</td>\n",
       "      <td>coming borders kill</td>\n",
       "      <td>3</td>\n",
       "    </tr>\n",
       "    <tr>\n",
       "      <th>2</th>\n",
       "      <td>2401</td>\n",
       "      <td>Borderlands</td>\n",
       "      <td>Positive</td>\n",
       "      <td>im getting on borderlands and i will kill you ...</td>\n",
       "      <td>im getting borderlands kill</td>\n",
       "      <td>3</td>\n",
       "    </tr>\n",
       "    <tr>\n",
       "      <th>3</th>\n",
       "      <td>2401</td>\n",
       "      <td>Borderlands</td>\n",
       "      <td>Positive</td>\n",
       "      <td>im coming on borderlands and i will murder you...</td>\n",
       "      <td>im coming borderlands murder</td>\n",
       "      <td>3</td>\n",
       "    </tr>\n",
       "    <tr>\n",
       "      <th>4</th>\n",
       "      <td>2401</td>\n",
       "      <td>Borderlands</td>\n",
       "      <td>Positive</td>\n",
       "      <td>im getting on borderlands 2 and i will murder ...</td>\n",
       "      <td>im getting borderlands murder</td>\n",
       "      <td>3</td>\n",
       "    </tr>\n",
       "  </tbody>\n",
       "</table>\n",
       "</div>"
      ],
      "text/plain": [
       "     ID       Entity  ...                        cleaned Sentiment_label\n",
       "0  2401  Borderlands  ...  im getting borderlands murder               3\n",
       "1  2401  Borderlands  ...            coming borders kill               3\n",
       "2  2401  Borderlands  ...    im getting borderlands kill               3\n",
       "3  2401  Borderlands  ...   im coming borderlands murder               3\n",
       "4  2401  Borderlands  ...  im getting borderlands murder               3\n",
       "\n",
       "[5 rows x 6 columns]"
      ]
     },
     "execution_count": 2,
     "metadata": {},
     "output_type": "execute_result"
    }
   ],
   "source": [
    "\n",
    "df=pd.read_csv(r\"data/twitter_training_cleaned.csv\",encoding='UTF-8')\n",
    "df.head()"
   ]
  },
  {
   "cell_type": "code",
   "execution_count": 3,
   "id": "4651476e",
   "metadata": {},
   "outputs": [
    {
     "data": {
      "text/plain": [
       "0                            im getting borderlands murder\n",
       "1                                      coming borders kill\n",
       "2                              im getting borderlands kill\n",
       "3                             im coming borderlands murder\n",
       "4                            im getting borderlands murder\n",
       "                               ...                        \n",
       "73991    realized windows partition mac like years behi...\n",
       "73992    realized mac window partition years behind nvi...\n",
       "73993    realized windows partition mac years behind nv...\n",
       "73994    realized windows partition mac like years behi...\n",
       "73995    like windows partition mac like years behind d...\n",
       "Name: cleaned, Length: 72364, dtype: object"
      ]
     },
     "execution_count": 3,
     "metadata": {},
     "output_type": "execute_result"
    }
   ],
   "source": [
    "df=df.dropna()\n",
    "vectorizer = TfidfVectorizer(ngram_range=(1, 2), max_features=5000)\n",
    "df['cleaned']"
   ]
  },
  {
   "cell_type": "code",
   "execution_count": 12,
   "id": "b56ca74f",
   "metadata": {},
   "outputs": [],
   "source": [
    "\n",
    "X=vectorizer.fit_transform(df['cleaned'])\n",
    "y=df['Sentiment_label']\n",
    "X=X.toarray()"
   ]
  },
  {
   "cell_type": "code",
   "execution_count": null,
   "id": "01d14973",
   "metadata": {},
   "outputs": [],
   "source": [
    "\n",
    "\n",
    "X_train,X_test,y_train,y_test=train_test_split(X,y,test_size=0.2,random_state=42)\n",
    "\n",
    "model = SVC(C=1)\n",
    "model.fit(X_train,y_train)\n",
    "\n"
   ]
  },
  {
   "cell_type": "code",
   "execution_count": null,
   "id": "a9c1f70b",
   "metadata": {},
   "outputs": [
    {
     "name": "stdout",
     "output_type": "stream",
     "text": [
      "              precision    recall  f1-score   support\n",
      "\n",
      "  Irrelevant       0.30      0.94      0.45      2484\n",
      "    Negative       0.79      0.41      0.54      4459\n",
      "     Neutral       0.77      0.29      0.43      3465\n",
      "    Positive       0.59      0.43      0.50      4065\n",
      "\n",
      "    accuracy                           0.48     14473\n",
      "   macro avg       0.61      0.52      0.48     14473\n",
      "weighted avg       0.64      0.48      0.49     14473\n",
      "\n"
     ]
    }
   ],
   "source": [
    "p=model.predict(X_test)\n",
    "df['Sentiment']=df['Sentiment'].astype('category')\n",
    "print(classification_report(y_test,p,target_names=df['Sentiment'].cat.categories))"
   ]
  },
  {
   "cell_type": "code",
   "execution_count": null,
   "id": "81d81002",
   "metadata": {},
   "outputs": [],
   "source": []
  }
 ],
 "metadata": {
  "kernelspec": {
   "display_name": ".venv",
   "language": "python",
   "name": "python3"
  },
  "language_info": {
   "codemirror_mode": {
    "name": "ipython",
    "version": 3
   },
   "file_extension": ".py",
   "mimetype": "text/x-python",
   "name": "python",
   "nbconvert_exporter": "python",
   "pygments_lexer": "ipython3",
   "version": "3.11.0"
  }
 },
 "nbformat": 4,
 "nbformat_minor": 5
}
